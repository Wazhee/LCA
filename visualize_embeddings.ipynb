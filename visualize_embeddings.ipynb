{
 "cells": [
  {
   "cell_type": "code",
   "execution_count": 11,
   "id": "457bdb64",
   "metadata": {},
   "outputs": [],
   "source": [
    "import numpy as np\n",
    "import pandas as pd\n",
    "import numpy as np\n",
    "from scripts.vqvae import VQVAE\n",
    "import torch\n",
    "import os\n",
    "from tqdm import tqdm\n",
    "import matplotlib.pyplot as plt\n",
    "import ast\n",
    "\n",
    "import warnings\n",
    "warnings.filterwarnings(\"ignore\")"
   ]
  },
  {
   "cell_type": "code",
   "execution_count": 20,
   "id": "9268fc5d",
   "metadata": {},
   "outputs": [],
   "source": [
    "#---- Define age group assignment function ----\n",
    "def assign_age_group(age):\n",
    "    if 55 <= age < 60:\n",
    "        return '55-60'\n",
    "    elif 60 <= age < 65:\n",
    "        return '60-65'\n",
    "    elif 65 <= age < 70:\n",
    "        return '65-70'\n",
    "    elif age >= 70:\n",
    "        return '70+'\n",
    "    else:\n",
    "        return 'Under 50'  \n",
    "    \n",
    "def load_original_embeddings():\n",
    "    #---- Load training embeddings ----\n",
    "    train_data = np.load('/workspace/jiezy/CLIP-GCA/NLST/nlst_train_with_labels.npz', allow_pickle=True)[\"arr_0\"].item()\n",
    "    test_data = np.load('/workspace/jiezy/CLIP-GCA/NLST/nlst_tune_with_labels.npz', allow_pickle=True)[\"arr_0\"].item()\n",
    "    \n",
    "    #---- construct dataframes ----\n",
    "    train_df = pd.DataFrame.from_dict(train_data, orient='index')\n",
    "    test_df = pd.DataFrame.from_dict(test_data, orient='index')\n",
    "    \n",
    "    #---- Acquire unique identifiers ----\n",
    "    train_df[\"pid\"] = [k.split('/')[1] for k in list(train_data.keys())]\n",
    "    test_df[\"pid\"] = [k.split('/')[1] for k in list(test_data.keys())]\n",
    "    # Replace first row with indices\n",
    "    train_df.reset_index(drop=True, inplace=True)\n",
    "    test_df.reset_index(drop=True, inplace=True)\n",
    "\n",
    "    #---- Load patient demographics ----\n",
    "    df = pd.read_csv(\"/workspace/jiezy/CLIP-GCA/NLST/nlst_780_prsn_idc_20210527.csv\")\n",
    "    df[\"gender\"] = df[\"gender\"].map({1:\"M\", 2:\"F\"})\n",
    "\n",
    "    #---- add patient demographics to dataset ---- \n",
    "    train_df['pid'], test_df['pid'], df['pid'] = train_df['pid'].astype(str), test_df['pid'].astype(str), df['pid'].astype(str)\n",
    "    train_df = train_df.merge(df[['pid', 'gender', \"age\", \"race\", \"can_scr\"]], on='pid', how='left')\n",
    "    test_df = test_df.merge(df[['pid', 'gender', \"age\", \"race\", \"can_scr\"]], on='pid', how='left')\n",
    "    \n",
    "    #---- define age groups ----\n",
    "    train_df['Age_group'], test_df['Age_group'] = train_df['age'].apply(assign_age_group), test_df['age'].apply(assign_age_group)\n",
    "    return train_df, test_df\n",
    "\n",
    "def load_ae_embeddings(dim):\n",
    "    src_dir = \"scripts/Synth-NLST\"\n",
    "    ae_train_df, ae_test_df = pd.read_csv(f\"{src_dir}/train_nlst_{dim}.csv\"),  pd.read_csv(f\"{src_dir}/test_nlst_{dim}.csv\")\n",
    "    ae_train_df['embedding'] = ae_train_df['embedding'].apply(ast.literal_eval)\n",
    "    ae_test_df['embedding'] = ae_test_df['embedding'].apply(ast.literal_eval)\n",
    "    print(f'{dim} AE Embeddings loaded successfully...')\n",
    "    return ae_train_df, ae_test_df\n",
    "\n",
    "def load_vqvae_embeddings(n, dim):\n",
    "    #---- Load low-dimensional embeddings ----\n",
    "    src_dir = \"scripts/Synth-NLST\"\n",
    "    vq_train_df, vq_test_df = pd.read_csv(f\"{src_dir}/train_vq_nlst_{n}_{dim}.csv\"), pd.read_csv(f\"{src_dir}/test_vq_nlst_{n}_{dim}.csv\")\n",
    "    vq_train_df['embedding'] = vq_train_df['embedding'].apply(ast.literal_eval)\n",
    "    vq_test_df['embedding'] = vq_test_df['embedding'].apply(ast.literal_eval)\n",
    "    print(f'{n}x{dim} VQ Embeddings loaded successfully...')\n",
    "    return vq_train_df, vq_test_df"
   ]
  },
  {
   "cell_type": "markdown",
   "id": "b7026832",
   "metadata": {},
   "source": [
    "## Load Embeddings"
   ]
  },
  {
   "cell_type": "code",
   "execution_count": 21,
   "id": "5eb02edf",
   "metadata": {},
   "outputs": [
    {
     "name": "stdout",
     "output_type": "stream",
     "text": [
      "8 AE Embeddings loaded successfully...\n",
      "512x4 VQ Embeddings loaded successfully...\n"
     ]
    }
   ],
   "source": [
    "#---- Load Original Embeddings ----\n",
    "train_df, test_df = load_original_embeddings()\n",
    "\n",
    "#---- Load Vanilla Embeddings -----\n",
    "ae_train_df, ae_test_df = load_ae_embeddings(dim=8)\n",
    "\n",
    "#---- Load VQVAE Embeddings -----\n",
    "vq_train_df, vq_test_df = load_vqvae_embeddings(n=512, dim=4)"
   ]
  },
  {
   "cell_type": "markdown",
   "id": "c88f6fdd",
   "metadata": {},
   "source": [
    "## Visualize Embeddings"
   ]
  },
  {
   "cell_type": "code",
   "execution_count": null,
   "id": "ae2b0098",
   "metadata": {},
   "outputs": [
    {
     "name": "stdout",
     "output_type": "stream",
     "text": [
      "Running TSNE for Original...\n"
     ]
    }
   ],
   "source": [
    "import numpy as np\n",
    "import pandas as pd\n",
    "from sklearn.manifold import TSNE\n",
    "import matplotlib.pyplot as plt\n",
    "import seaborn as sns\n",
    "\n",
    "\n",
    "#---- Combine Train + Test ----\n",
    "original_df = pd.concat([train_df, test_df])\n",
    "ae_df = pd.concat([ae_train_df, ae_test_df])\n",
    "vq_df = pd.concat([vq_train_df, vq_test_df])\n",
    "\n",
    "#---- Helper: Flatten embeddings ----\n",
    "def flatten_embeddings(df):\n",
    "    return np.vstack(df[\"embedding\"].values)\n",
    "\n",
    "# Prepare embeddings and labels\n",
    "embeddings = {\n",
    "    \"Original\": flatten_embeddings(original_df),\n",
    "    \"Autoencoder\": flatten_embeddings(ae_df),\n",
    "    \"VQ-VAE\": flatten_embeddings(vq_df),\n",
    "}\n",
    "\n",
    "# Gender labels (assume same length/order as embeddings)\n",
    "labels = {\n",
    "    \"Original\": original_df[\"gender\"].values,\n",
    "    \"Autoencoder\": ae_df[\"gender\"].values,\n",
    "    \"VQ-VAE\": vq_df[\"gender\"].values,\n",
    "}\n",
    "\n",
    "#---- Plot TSNE for each embedding type ----\n",
    "fig, axes = plt.subplots(1, 3, figsize=(18, 6))\n",
    "\n",
    "for ax, (name, X) in zip(axes, embeddings.items()):\n",
    "    print(f\"Running TSNE for {name}...\")\n",
    "    X_tsne = TSNE(n_components=2, random_state=42, perplexity=30).fit_transform(X)\n",
    "    \n",
    "    df_plot = pd.DataFrame({\n",
    "        \"x\": X_tsne[:,0],\n",
    "        \"y\": X_tsne[:,1],\n",
    "        \"gender\": labels[name]\n",
    "    })\n",
    "    \n",
    "    sns.scatterplot(\n",
    "        data=df_plot, x=\"x\", y=\"y\", hue=\"gender\",\n",
    "        palette={\"male\": \"blue\", \"female\": \"red\"},\n",
    "        alpha=0.6, s=20, ax=ax\n",
    "    )\n",
    "    ax.set_title(f\"{name} Embeddings (t-SNE)\")\n",
    "\n",
    "plt.tight_layout()\n",
    "plt.show()\n"
   ]
  },
  {
   "cell_type": "code",
   "execution_count": null,
   "id": "60ac19ab",
   "metadata": {},
   "outputs": [],
   "source": []
  }
 ],
 "metadata": {
  "kernelspec": {
   "display_name": "Python 3 (ipykernel)",
   "language": "python",
   "name": "python3"
  },
  "language_info": {
   "codemirror_mode": {
    "name": "ipython",
    "version": 3
   },
   "file_extension": ".py",
   "mimetype": "text/x-python",
   "name": "python",
   "nbconvert_exporter": "python",
   "pygments_lexer": "ipython3",
   "version": "3.10.6"
  }
 },
 "nbformat": 4,
 "nbformat_minor": 5
}
